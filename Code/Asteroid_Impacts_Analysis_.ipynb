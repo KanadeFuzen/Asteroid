{
  "nbformat": 4,
  "nbformat_minor": 0,
  "metadata": {
    "colab": {
      "name": "Asteroid_Impacts_Analysis .ipynb",
      "provenance": [],
      "collapsed_sections": []
    },
    "kernelspec": {
      "name": "python3",
      "display_name": "Python 3"
    }
  },
  "cells": [
    {
      "cell_type": "markdown",
      "metadata": {
        "id": "KzuAc0aPKiQI"
      },
      "source": [
        "Hypotheses = Does the size and speed of an asteroid determine the probability of an impact on Earth?"
      ]
    },
    {
      "cell_type": "code",
      "metadata": {
        "colab": {
          "base_uri": "https://localhost:8080/",
          "height": 238
        },
        "id": "0tJJSIVjG9Sm",
        "outputId": "0407a72f-0b19-48cd-fa06-084cb16be4bc"
      },
      "source": [
        "import pandas as pd\r\n",
        "import numpy as np\r\n",
        "import matplotlib.pyplot as plt\r\n",
        "import seaborn as sns\r\n",
        "from statsmodels.formula.api import ols\r\n",
        "\r\n",
        "url1 = 'https://raw.githubusercontent.com/WaqasKhwaja/Asteroid/main/Datasets/impacts.csv'\r\n",
        "impacts = pd.read_csv(url1, skipinitialspace=True, header=0)\r\n",
        "impacts.head()"
      ],
      "execution_count": 1,
      "outputs": [
        {
          "output_type": "stream",
          "text": [
            "/usr/local/lib/python3.6/dist-packages/statsmodels/tools/_testing.py:19: FutureWarning: pandas.util.testing is deprecated. Use the functions in the public API at pandas.testing instead.\n",
            "  import pandas.util.testing as tm\n"
          ],
          "name": "stderr"
        },
        {
          "output_type": "execute_result",
          "data": {
            "text/html": [
              "<div>\n",
              "<style scoped>\n",
              "    .dataframe tbody tr th:only-of-type {\n",
              "        vertical-align: middle;\n",
              "    }\n",
              "\n",
              "    .dataframe tbody tr th {\n",
              "        vertical-align: top;\n",
              "    }\n",
              "\n",
              "    .dataframe thead th {\n",
              "        text-align: right;\n",
              "    }\n",
              "</style>\n",
              "<table border=\"1\" class=\"dataframe\">\n",
              "  <thead>\n",
              "    <tr style=\"text-align: right;\">\n",
              "      <th></th>\n",
              "      <th>Object Name</th>\n",
              "      <th>Period Start</th>\n",
              "      <th>Period End</th>\n",
              "      <th>Possible Impacts</th>\n",
              "      <th>Cumulative Impact Probability</th>\n",
              "      <th>Asteroid Velocity</th>\n",
              "      <th>Asteroid Magnitude</th>\n",
              "      <th>Asteroid Diameter (km)</th>\n",
              "      <th>Cumulative Palermo Scale</th>\n",
              "      <th>Maximum Palermo Scale</th>\n",
              "      <th>Maximum Torino Scale</th>\n",
              "    </tr>\n",
              "  </thead>\n",
              "  <tbody>\n",
              "    <tr>\n",
              "      <th>0</th>\n",
              "      <td>2006 WP1</td>\n",
              "      <td>2017</td>\n",
              "      <td>2017</td>\n",
              "      <td>1</td>\n",
              "      <td>5.200000e-09</td>\n",
              "      <td>17.77</td>\n",
              "      <td>28.3</td>\n",
              "      <td>0.007</td>\n",
              "      <td>-8.31</td>\n",
              "      <td>-8.31</td>\n",
              "      <td>0</td>\n",
              "    </tr>\n",
              "    <tr>\n",
              "      <th>1</th>\n",
              "      <td>2013 YB</td>\n",
              "      <td>2017</td>\n",
              "      <td>2046</td>\n",
              "      <td>23</td>\n",
              "      <td>7.600000e-05</td>\n",
              "      <td>8.98</td>\n",
              "      <td>31.4</td>\n",
              "      <td>0.002</td>\n",
              "      <td>-6.60</td>\n",
              "      <td>-6.96</td>\n",
              "      <td>0</td>\n",
              "    </tr>\n",
              "    <tr>\n",
              "      <th>2</th>\n",
              "      <td>2008 US</td>\n",
              "      <td>2017</td>\n",
              "      <td>2062</td>\n",
              "      <td>30</td>\n",
              "      <td>1.600000e-05</td>\n",
              "      <td>18.33</td>\n",
              "      <td>31.4</td>\n",
              "      <td>0.002</td>\n",
              "      <td>-6.48</td>\n",
              "      <td>-6.87</td>\n",
              "      <td>0</td>\n",
              "    </tr>\n",
              "    <tr>\n",
              "      <th>3</th>\n",
              "      <td>2010 VR139</td>\n",
              "      <td>2017</td>\n",
              "      <td>2076</td>\n",
              "      <td>24</td>\n",
              "      <td>2.000000e-07</td>\n",
              "      <td>4.99</td>\n",
              "      <td>26.7</td>\n",
              "      <td>0.016</td>\n",
              "      <td>-6.83</td>\n",
              "      <td>-6.95</td>\n",
              "      <td>0</td>\n",
              "    </tr>\n",
              "    <tr>\n",
              "      <th>4</th>\n",
              "      <td>2015 ME131</td>\n",
              "      <td>2017</td>\n",
              "      <td>2096</td>\n",
              "      <td>85</td>\n",
              "      <td>2.300000e-08</td>\n",
              "      <td>19.46</td>\n",
              "      <td>19.2</td>\n",
              "      <td>0.497</td>\n",
              "      <td>-3.85</td>\n",
              "      <td>-4.30</td>\n",
              "      <td>0</td>\n",
              "    </tr>\n",
              "  </tbody>\n",
              "</table>\n",
              "</div>"
            ],
            "text/plain": [
              "  Object Name  Period Start  ...  Maximum Palermo Scale  Maximum Torino Scale\n",
              "0    2006 WP1          2017  ...                  -8.31                     0\n",
              "1     2013 YB          2017  ...                  -6.96                     0\n",
              "2     2008 US          2017  ...                  -6.87                     0\n",
              "3  2010 VR139          2017  ...                  -6.95                     0\n",
              "4  2015 ME131          2017  ...                  -4.30                     0\n",
              "\n",
              "[5 rows x 11 columns]"
            ]
          },
          "metadata": {
            "tags": []
          },
          "execution_count": 1
        }
      ]
    },
    {
      "cell_type": "code",
      "metadata": {
        "colab": {
          "base_uri": "https://localhost:8080/",
          "height": 238
        },
        "id": "eVH4DPXRSu-M",
        "outputId": "3a976607-126e-4b58-8dc0-b3f6f00380de"
      },
      "source": [
        "url2 = 'https://raw.githubusercontent.com/WaqasKhwaja/Asteroid/main/Datasets/orbits.csv'\r\n",
        "orbits = pd.read_csv(url2, skipinitialspace=True, header=0)\r\n",
        "orbits.head()"
      ],
      "execution_count": 2,
      "outputs": [
        {
          "output_type": "execute_result",
          "data": {
            "text/html": [
              "<div>\n",
              "<style scoped>\n",
              "    .dataframe tbody tr th:only-of-type {\n",
              "        vertical-align: middle;\n",
              "    }\n",
              "\n",
              "    .dataframe tbody tr th {\n",
              "        vertical-align: top;\n",
              "    }\n",
              "\n",
              "    .dataframe thead th {\n",
              "        text-align: right;\n",
              "    }\n",
              "</style>\n",
              "<table border=\"1\" class=\"dataframe\">\n",
              "  <thead>\n",
              "    <tr style=\"text-align: right;\">\n",
              "      <th></th>\n",
              "      <th>Object Name</th>\n",
              "      <th>Object Classification</th>\n",
              "      <th>Epoch (TDB)</th>\n",
              "      <th>Orbit Axis (AU)</th>\n",
              "      <th>Orbit Eccentricity</th>\n",
              "      <th>Orbit Inclination (deg)</th>\n",
              "      <th>Perihelion Argument (deg)</th>\n",
              "      <th>Node Longitude (deg)</th>\n",
              "      <th>Mean Anomoly (deg)</th>\n",
              "      <th>Perihelion Distance (AU)</th>\n",
              "      <th>Aphelion Distance (AU)</th>\n",
              "      <th>Orbital Period (yr)</th>\n",
              "      <th>Minimum Orbit Intersection Distance (AU)</th>\n",
              "      <th>Orbital Reference</th>\n",
              "      <th>Asteroid Magnitude</th>\n",
              "    </tr>\n",
              "  </thead>\n",
              "  <tbody>\n",
              "    <tr>\n",
              "      <th>0</th>\n",
              "      <td>433 Eros</td>\n",
              "      <td>Amor Asteroid</td>\n",
              "      <td>57800</td>\n",
              "      <td>1.4579</td>\n",
              "      <td>0.2226</td>\n",
              "      <td>10.8277</td>\n",
              "      <td>178.8050</td>\n",
              "      <td>304.3265</td>\n",
              "      <td>319.3111</td>\n",
              "      <td>1.1335</td>\n",
              "      <td>1.78</td>\n",
              "      <td>1.76</td>\n",
              "      <td>0.1492</td>\n",
              "      <td>598</td>\n",
              "      <td>11.16</td>\n",
              "    </tr>\n",
              "    <tr>\n",
              "      <th>1</th>\n",
              "      <td>719 Albert</td>\n",
              "      <td>Amor Asteroid</td>\n",
              "      <td>57800</td>\n",
              "      <td>2.6385</td>\n",
              "      <td>0.5479</td>\n",
              "      <td>11.5822</td>\n",
              "      <td>156.1409</td>\n",
              "      <td>183.9204</td>\n",
              "      <td>224.5535</td>\n",
              "      <td>1.1928</td>\n",
              "      <td>4.08</td>\n",
              "      <td>4.29</td>\n",
              "      <td>0.2004</td>\n",
              "      <td>78</td>\n",
              "      <td>15.50</td>\n",
              "    </tr>\n",
              "    <tr>\n",
              "      <th>2</th>\n",
              "      <td>887 Alinda</td>\n",
              "      <td>Amor Asteroid</td>\n",
              "      <td>57800</td>\n",
              "      <td>2.4787</td>\n",
              "      <td>0.5671</td>\n",
              "      <td>9.3561</td>\n",
              "      <td>350.3482</td>\n",
              "      <td>110.5444</td>\n",
              "      <td>351.3730</td>\n",
              "      <td>1.0731</td>\n",
              "      <td>3.88</td>\n",
              "      <td>3.90</td>\n",
              "      <td>0.0925</td>\n",
              "      <td>188</td>\n",
              "      <td>13.40</td>\n",
              "    </tr>\n",
              "    <tr>\n",
              "      <th>3</th>\n",
              "      <td>1036 Ganymed</td>\n",
              "      <td>Amor Asteroid</td>\n",
              "      <td>57800</td>\n",
              "      <td>2.6628</td>\n",
              "      <td>0.5338</td>\n",
              "      <td>26.6929</td>\n",
              "      <td>132.4690</td>\n",
              "      <td>215.5551</td>\n",
              "      <td>92.5640</td>\n",
              "      <td>1.2413</td>\n",
              "      <td>4.08</td>\n",
              "      <td>4.35</td>\n",
              "      <td>0.3421</td>\n",
              "      <td>597</td>\n",
              "      <td>9.45</td>\n",
              "    </tr>\n",
              "    <tr>\n",
              "      <th>4</th>\n",
              "      <td>1221 Amor</td>\n",
              "      <td>Amor Asteroid</td>\n",
              "      <td>57800</td>\n",
              "      <td>1.9191</td>\n",
              "      <td>0.4356</td>\n",
              "      <td>11.8795</td>\n",
              "      <td>26.6572</td>\n",
              "      <td>171.3448</td>\n",
              "      <td>313.7379</td>\n",
              "      <td>1.0832</td>\n",
              "      <td>2.76</td>\n",
              "      <td>2.66</td>\n",
              "      <td>0.1068</td>\n",
              "      <td>70</td>\n",
              "      <td>17.70</td>\n",
              "    </tr>\n",
              "  </tbody>\n",
              "</table>\n",
              "</div>"
            ],
            "text/plain": [
              "    Object Name Object Classification  ...  Orbital Reference  Asteroid Magnitude\n",
              "0      433 Eros         Amor Asteroid  ...                598               11.16\n",
              "1    719 Albert         Amor Asteroid  ...                 78               15.50\n",
              "2    887 Alinda         Amor Asteroid  ...                188               13.40\n",
              "3  1036 Ganymed         Amor Asteroid  ...                597                9.45\n",
              "4     1221 Amor         Amor Asteroid  ...                 70               17.70\n",
              "\n",
              "[5 rows x 15 columns]"
            ]
          },
          "metadata": {
            "tags": []
          },
          "execution_count": 2
        }
      ]
    },
    {
      "cell_type": "code",
      "metadata": {
        "id": "BOKmoejRadrm",
        "colab": {
          "base_uri": "https://localhost:8080/",
          "height": 400
        },
        "outputId": "e4d9848b-6058-4f15-ab11-f52142d497c3"
      },
      "source": [
        "velocity_relation = sns.lmplot(x='Asteroid Velocity', y='Possible Impacts', data=impacts, ci=None,fit_reg=None)\r\n",
        "velocity_relation\r\n",
        "# Lower velocity might cause more possible impactss."
      ],
      "execution_count": 3,
      "outputs": [
        {
          "output_type": "execute_result",
          "data": {
            "text/plain": [
              "<seaborn.axisgrid.FacetGrid at 0x7f9296b0a1d0>"
            ]
          },
          "metadata": {
            "tags": []
          },
          "execution_count": 3
        },
        {
          "output_type": "display_data",
          "data": {
            "image/png": "[encoded data removed]",
            "text/plain": [
              "<Figure size 360x360 with 1 Axes>"
            ]
          },
          "metadata": {
            "tags": [],
            "needs_background": "light"
          }
        }
      ]
    },
    {
      "cell_type": "code",
      "metadata": {
        "colab": {
          "base_uri": "https://localhost:8080/",
          "height": 400
        },
        "id": "Z5CDbQAUDZyJ",
        "outputId": "e0f3f815-c015-4d7c-9822-6598bfbdd8f3"
      },
      "source": [
        "magnitude_relation = sns.lmplot(x='Asteroid Magnitude', y='Possible Impacts', data=impacts, ci=None,fit_reg=None)\r\n",
        "magnitude_relation\r\n",
        "# Higher magnitude equals more possible impacts."
      ],
      "execution_count": 4,
      "outputs": [
        {
          "output_type": "execute_result",
          "data": {
            "text/plain": [
              "<seaborn.axisgrid.FacetGrid at 0x7f9281bdacc0>"
            ]
          },
          "metadata": {
            "tags": []
          },
          "execution_count": 4
        },
        {
          "output_type": "display_data",
          "data": {
            "image/png": "[encoded data removed]",
            "text/plain": [
              "<Figure size 360x360 with 1 Axes>"
            ]
          },
          "metadata": {
            "tags": [],
            "needs_background": "light"
          }
        }
      ]
    },
    {
      "cell_type": "code",
      "metadata": {
        "colab": {
          "base_uri": "https://localhost:8080/",
          "height": 400
        },
        "id": "Lh8Va2wHDaZw",
        "outputId": "88626442-3d77-4e27-9623-35d89282a987"
      },
      "source": [
        "diameter_relation = sns.lmplot(x='Asteroid Diameter (km)', y='Possible Impacts',data=impacts,ci=None,fit_reg=None)\r\n",
        "diameter_relation\r\n",
        "# Seems most asteroids that impacts are very small. Most likely after burning from a larger size from Earth's atmosphere."
      ],
      "execution_count": 5,
      "outputs": [
        {
          "output_type": "execute_result",
          "data": {
            "text/plain": [
              "<seaborn.axisgrid.FacetGrid at 0x7f9278e6e898>"
            ]
          },
          "metadata": {
            "tags": []
          },
          "execution_count": 5
        },
        {
          "output_type": "display_data",
          "data": {
            "image/png": "[encoded data removed]",
            "text/plain": [
              "<Figure size 360x360 with 1 Axes>"
            ]
          },
          "metadata": {
            "tags": [],
            "needs_background": "light"
          }
        }
      ]
    },
    {
      "cell_type": "code",
      "metadata": {
        "colab": {
          "base_uri": "https://localhost:8080/",
          "height": 295
        },
        "id": "EGp4OmdnEa_y",
        "outputId": "b0163b4f-a10a-4b4c-af48-2aa22900fdea"
      },
      "source": [
        "fig, ax = plt.subplots()\r\n",
        "\r\n",
        "ax.hist(impacts['Asteroid Diameter (km)'], label='Diameter')\r\n",
        "ax.hist(impacts['Asteroid Velocity'], label='Velocity')\r\n",
        "ax.hist(impacts['Asteroid Magnitude'], label='Magnitude/Distance')\r\n",
        "\r\n",
        "ax.set_xlabel('Value of Asteroids') \r\n",
        "ax.set_ylabel('Possible Impacts') \r\n",
        "ax.set_title('Frequency of Asteroid Impacts by Velocity & Size') \r\n",
        "\r\n",
        "ax.legend()\r\n",
        "\r\n",
        "plt.show()\r\n",
        "\r\n",
        "# The most frequent asteroid impacts can be inferred as small asteroids with a diameter of 0.1-0.5 km with a medium velocity of a magnitude around 25. A magnitude of 25 would mean a asteroid is about 1 AU away from Earth and is smaller in size."
      ],
      "execution_count": 6,
      "outputs": [
        {
          "output_type": "display_data",
          "data": {
            "image/png": "[encoded data removed]",
            "text/plain": [
              "<Figure size 432x288 with 1 Axes>"
            ]
          },
          "metadata": {
            "tags": [],
            "needs_background": "light"
          }
        }
      ]
    }
  ]
}
